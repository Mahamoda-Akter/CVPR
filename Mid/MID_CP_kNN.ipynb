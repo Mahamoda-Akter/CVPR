{
 "cells": [
  {
   "cell_type": "code",
   "execution_count": 6,
   "id": "b8306b89",
   "metadata": {},
   "outputs": [
    {
     "name": "stdout",
     "output_type": "stream",
     "text": [
      "Test Images shape: (10000, 32, 32)\n"
     ]
    }
   ],
   "source": [
    "import os\n",
    "import cv2\n",
    "import numpy as np\n",
    "\n",
    "test_data_dir = 'E:/CIFAR-10-images/test'\n",
    "\n",
    "def load_cifar_10_test_data(test_data_dir):\n",
    "    images = []\n",
    "\n",
    "    for root, dirs, files in os.walk(test_data_dir):\n",
    "        for file in files:\n",
    "            image = cv2.imread(os.path.join(root, file), cv2.IMREAD_GRAYSCALE)\n",
    "\n",
    "            image = cv2.resize(image, (32, 32))\n",
    "\n",
    "            images.append(image)\n",
    "\n",
    "    images = np.array(images)\n",
    "\n",
    "    return images\n",
    "\n",
    "test_images = load_cifar_10_test_data(test_data_dir)\n",
    "\n",
    "print(\"Test Images shape:\", test_images.shape)"
   ]
  }
 ],
 "metadata": {
  "kernelspec": {
   "display_name": "Python 3 (ipykernel)",
   "language": "python",
   "name": "python3"
  },
  "language_info": {
   "codemirror_mode": {
    "name": "ipython",
    "version": 3
   },
   "file_extension": ".py",
   "mimetype": "text/x-python",
   "name": "python",
   "nbconvert_exporter": "python",
   "pygments_lexer": "ipython3",
   "version": "3.10.13"
  }
 },
 "nbformat": 4,
 "nbformat_minor": 5
}
